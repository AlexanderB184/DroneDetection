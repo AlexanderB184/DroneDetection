{
 "cells": [
  {
   "cell_type": "code",
   "execution_count": 1,
   "id": "29f2f17e",
   "metadata": {},
   "outputs": [],
   "source": [
    "import cv2 as cv\n",
    "import os"
   ]
  },
  {
   "cell_type": "code",
   "execution_count": 2,
   "id": "114b8b48",
   "metadata": {},
   "outputs": [],
   "source": [
    "def splitVidRetina(path,vid):\n",
    "    videoHandler = cv.VideoCapture(path)\n",
    "    succeed, inputImage=videoHandler.read()\n",
    "    if (videoHandler.isOpened()== False): \n",
    "        print(\"Error opening video stream or file\")\n",
    "        print(path)\n",
    "        return\n",
    "    #allocate a retina instance with input size equal to the one of the loaded image\n",
    "    retina = cv.bioinspired_Retina.create((inputImage.shape[1], inputImage.shape[0]))\n",
    "    #retina parameters management methods use sample\n",
    "    #-> save current (here default) retina parameters to a xml file (you may use it only one time to get the file and modify it)\n",
    "    retina.write('retinaParams.xml')\n",
    "    #-> load retina parameters from a xml file : here we load the default parameters that we just wrote to file\n",
    "    retina.setup('retinaParams.xml')\n",
    "    #main processing loop\n",
    "    stillProcess=True\n",
    "    frame_number = 0\n",
    "    while stillProcess is True:\n",
    "         #grab a new frame and display it\n",
    "        stillProcess, inputImage=videoHandler.read()\n",
    "        if not stillProcess or frame_number > int(videoHandler.get(cv.CAP_PROP_FRAME_COUNT)):\n",
    "            return\n",
    "        cv.imshow('input frame', inputImage)\n",
    "     \n",
    "         #run retina on the input image\n",
    "        retina.run(inputImage)\n",
    "         #grab retina outputs\n",
    "        retinaOut_parvo=retina.getParvo()\n",
    "        #retinaOut_magno=retina.getMagno()\n",
    "        #retinaOut_parvo_normalized = cv.normalize(retinaOut_parvo,None,0,255.0,cv.NORM_MINMAX,dtype=cv.CV_32F)\n",
    "         #draw retina outputs\n",
    "        cv.imshow('retina parvo out', retinaOut_parvo)\n",
    "        #cv.imshow('retina magno out', retinaOut_magno)\n",
    "        # Save the frame as an image file\n",
    "        frame_filename = os.path.join(f'./retina/{vid[:-4]}_{frame_number:04d}.jpg')\n",
    "        if (frame_number%30 == 0):\n",
    "            cv.imwrite(frame_filename, retinaOut_parvo)\n",
    "         #wait a little to let the time for figures to be drawn\n",
    "        cv.waitKey(5)\n",
    "        frame_number += 1\n",
    "    pass"
   ]
  },
  {
   "cell_type": "code",
   "execution_count": 3,
   "id": "453e9cbb",
   "metadata": {},
   "outputs": [],
   "source": [
    "def splitVids(path,vid):\n",
    "    videoHandler = cv.VideoCapture(path)\n",
    "    succeed, inputImage=videoHandler.read()\n",
    "    if (videoHandler.isOpened()== False): \n",
    "        print(\"Error opening video stream or file\")\n",
    "        print(path)\n",
    "    stillProcess=True\n",
    "    frame_number = 0\n",
    "    while stillProcess is True:\n",
    "     #grab a new frame and display it\n",
    "        stillProcess, inputImage=videoHandler.read()\n",
    "        if not stillProcess or frame_number > int(videoHandler.get(cv.CAP_PROP_FRAME_COUNT)):\n",
    "            return\n",
    "        cv.imshow('input frame', inputImage)\n",
    "        frame_filename = os.path.join(f'./base/{vid[:-4]}_{frame_number:04d}.jpg')\n",
    "        if (frame_number%30 == 0):\n",
    "            #print(frame_filename,frame_number)\n",
    "            cv.imwrite(frame_filename, inputImage)\n",
    "        cv.waitKey(5)\n",
    "        frame_number += 1\n",
    "    pass"
   ]
  },
  {
   "cell_type": "code",
   "execution_count": 4,
   "id": "30650e49",
   "metadata": {},
   "outputs": [],
   "source": [
    "selectedVids = [\n",
    "    \"GOPR5847_004.mp4\"\n",
    "    #\"2019_10_16_C0003_1700_matrice.mp4\",\n",
    "    #\"2019_10_16_C0003_3633_inspire.mp4\"\n",
    "]"
   ]
  },
  {
   "cell_type": "code",
   "execution_count": null,
   "id": "549ff7d4",
   "metadata": {},
   "outputs": [
    {
     "name": "stdout",
     "output_type": "stream",
     "text": [
      "loading GOPR5847_004.mp4\n",
      "saved frames for GOPR5847_004.mp4\n"
     ]
    }
   ],
   "source": [
    "for vid in selectedVids:\n",
    "    path = os.path.join(\"./Dataset/challenge-master/train_videos\", vid) \n",
    "    print(\"loading\",vid)\n",
    "    splitVids(path,vid)\n",
    "    print(\"saved frames for\",vid)\n",
    "    splitVidRetina(path,vid)\n",
    "    print(\"saved retina frames for\",vid)\n",
    "    "
   ]
  },
  {
   "cell_type": "code",
   "execution_count": null,
   "id": "9baa01e4",
   "metadata": {},
   "outputs": [],
   "source": []
  }
 ],
 "metadata": {
  "kernelspec": {
   "display_name": "Python 3 (ipykernel)",
   "language": "python",
   "name": "python3"
  },
  "language_info": {
   "codemirror_mode": {
    "name": "ipython",
    "version": 3
   },
   "file_extension": ".py",
   "mimetype": "text/x-python",
   "name": "python",
   "nbconvert_exporter": "python",
   "pygments_lexer": "ipython3",
   "version": "3.9.12"
  }
 },
 "nbformat": 4,
 "nbformat_minor": 5
}
